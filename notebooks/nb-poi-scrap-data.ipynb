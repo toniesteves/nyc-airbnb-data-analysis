{
 "cells": [
  {
   "cell_type": "markdown",
   "metadata": {},
   "source": [
    "# Obtendo pontos de interesse"
   ]
  },
  {
   "cell_type": "code",
   "execution_count": 1,
   "metadata": {},
   "outputs": [],
   "source": [
    "import requests\n",
    "from selenium.webdriver.chrome.options import Options\n",
    "from bs4 import BeautifulSoup"
   ]
  },
  {
   "cell_type": "code",
   "execution_count": 2,
   "metadata": {},
   "outputs": [],
   "source": [
    "def get_soup(url):\n",
    "    return BeautifulSoup(requests.get(url).content, 'lxml')"
   ]
  },
  {
   "cell_type": "code",
   "execution_count": 3,
   "metadata": {},
   "outputs": [],
   "source": [
    "base_url = \"https://www.google.com/travel/\"\n",
    "url = base_url + \"things-to-do/see-all?g2lb=2502548%2C4258168%2C4260007%2C4270442%2C4274032%2C4291318%2C4305595%2C4306835%2C4308216%2C4308227%2C4309598%2C4317915%2C4326765%2C4328159%2C4329288%2C4333265%2C4357967%2C4364231%2C4366684%2C4366858%2C4367953%2C4369397%2C4373848%2C4270859%2C4284970%2C4291517%2C4307996%2C4356900&hl=pt-BR&gl=us&un=1&otf=1&dest_mid=%2Fm%2F02_286&dest_state_type=sattd&tcfs=EgsKCS9tLzAyXzI4Ng&sa=X&utm_campaign=sharing&utm_medium=link&utm_source=htls#ttdm=40.725614_-74.007175_11&ttdmf=%252Fm%252F07qdr\""
   ]
  },
  {
   "cell_type": "code",
   "execution_count": 4,
   "metadata": {},
   "outputs": [],
   "source": [
    "soup = get_soup(url)"
   ]
  },
  {
   "cell_type": "code",
   "execution_count": 5,
   "metadata": {},
   "outputs": [
    {
     "data": {
      "text/plain": [
       "99"
      ]
     },
     "execution_count": 5,
     "metadata": {},
     "output_type": "execute_result"
    }
   ],
   "source": [
    "poi_list = [card.find('div', {'class': 'skFvHc'}).text for card in soup.findAll('div', {'role': 'listitem'})]\n",
    "len(poi_list)"
   ]
  },
  {
   "cell_type": "code",
   "execution_count": 6,
   "metadata": {},
   "outputs": [
    {
     "data": {
      "text/plain": [
       "['Estatua da Liberdade',\n",
       " 'Central Park',\n",
       " 'Times Square',\n",
       " 'Empire State Building',\n",
       " 'Rockefeller Center',\n",
       " 'Ponte do Brooklyn',\n",
       " 'High Line',\n",
       " 'Metropolitan Museum of Art',\n",
       " 'One World Trade Center',\n",
       " 'Estação Grand Central',\n",
       " 'The Museum of Modern Art',\n",
       " 'Memorial & Museu Nacional do 11 de Setembro',\n",
       " 'Quinta Avenida',\n",
       " 'Broadway',\n",
       " 'Parque Bryant',\n",
       " 'Museu Solomon R. Guggenheim',\n",
       " 'Coney Island',\n",
       " 'Battery Park',\n",
       " 'Plaza Hotel',\n",
       " 'Chrysler Building',\n",
       " 'Chinatown',\n",
       " 'Prospect Park',\n",
       " 'Flatiron Building',\n",
       " 'Catedral de São Patrício',\n",
       " 'Chelsea Market',\n",
       " 'Washington Square Park',\n",
       " 'Museu Americano de História Natural',\n",
       " 'Little Italy',\n",
       " 'Jardim Botânico do Brooklyn',\n",
       " 'Zoológico do Bronx',\n",
       " 'Jardim Botânico de Nova Iorque',\n",
       " 'Balsa de Staten Island',\n",
       " 'Radio City Music Hall',\n",
       " 'Intrepid Sea, Air & Space Museum',\n",
       " 'Madison Square Garden',\n",
       " 'Parque da Ponte do Brooklyn',\n",
       " 'Top of the Rock',\n",
       " 'Whitney Museum of American Art',\n",
       " 'Cloisters',\n",
       " 'Ponte de Manhattan',\n",
       " 'Zoológico do Central Park',\n",
       " 'Ilha da Liberdade',\n",
       " 'Madison Square Park',\n",
       " 'Bethesda Terrace',\n",
       " 'Circle Line Sightseeing Cruises',\n",
       " 'Lincoln Center',\n",
       " 'Flushing Meadows-Corona Park',\n",
       " 'Columbus Circle',\n",
       " 'Organização das Nações Unidas',\n",
       " 'Brooklyn Museum',\n",
       " 'Strawberry Fields',\n",
       " 'Ilha Roosevelt',\n",
       " 'Brooklyn Bridge',\n",
       " 'Liberty State Park',\n",
       " 'Museu Tenement',\n",
       " 'Castelo Belvedere',\n",
       " 'The Tour at NBC Studios',\n",
       " 'One World Observatory',\n",
       " 'Wollman Rink',\n",
       " 'Coleção Frick',\n",
       " 'Yankee Stadium',\n",
       " 'Ponte George Washington',\n",
       " 'Aquário de Nova York',\n",
       " 'Museu da Cidade de Nova York',\n",
       " 'Touro de Wall Street',\n",
       " 'Federal Hall',\n",
       " 'Riverside Park',\n",
       " 'Porto de Nova Iorque',\n",
       " 'New Museum',\n",
       " 'Museu do Trânsito de Nova York',\n",
       " 'Carnegie Hall',\n",
       " 'Brookfield Place',\n",
       " 'Astoria',\n",
       " 'Igreja da Trindade',\n",
       " 'New York City Hall',\n",
       " 'Woolworth Building',\n",
       " 'Árvore de Natal do Rockefeller Center',\n",
       " '34th Street',\n",
       " 'Ponte Verrazano-Narrows',\n",
       " 'Snug Harbor Cultural Center & Botanical Garden',\n",
       " 'Ponte do Queensboro',\n",
       " 'Museu do Sexo',\n",
       " 'Pierpont Morgan Library',\n",
       " 'Queens Museum',\n",
       " 'Apollo Theater',\n",
       " 'Madame Tussauds em Nova York',\n",
       " 'Vessel',\n",
       " 'Madison Avenue',\n",
       " 'Canal Street',\n",
       " \"Macy's Herald Square\",\n",
       " 'Bushwick',\n",
       " 'Brooklyn Heights Promenade',\n",
       " 'Hudson River Park',\n",
       " 'Teleférico da Ilha Roosevelt',\n",
       " 'Castle Clinton',\n",
       " 'Jacqueline Kennedy Onassis Reservoir',\n",
       " 'Wave Hill Public Gardens',\n",
       " 'Metropolitan Opera',\n",
       " 'Gramercy Park']"
      ]
     },
     "execution_count": 6,
     "metadata": {},
     "output_type": "execute_result"
    }
   ],
   "source": [
    "poi_list"
   ]
  },
  {
   "cell_type": "code",
   "execution_count": 19,
   "metadata": {},
   "outputs": [],
   "source": [
    "places = pd.DataFrame(columns=['poi'])\n",
    "places['poi'] = pd.Series(poi_list).values\n",
    "\n",
    "places.to_csv('../scrap/places.csv', index=False, sep=';')"
   ]
  },
  {
   "cell_type": "code",
   "execution_count": null,
   "metadata": {},
   "outputs": [],
   "source": []
  },
  {
   "cell_type": "code",
   "execution_count": null,
   "metadata": {},
   "outputs": [],
   "source": []
  }
 ],
 "metadata": {
  "kernelspec": {
   "display_name": "Python 3",
   "language": "python",
   "name": "python3"
  },
  "language_info": {
   "codemirror_mode": {
    "name": "ipython",
    "version": 3
   },
   "file_extension": ".py",
   "mimetype": "text/x-python",
   "name": "python",
   "nbconvert_exporter": "python",
   "pygments_lexer": "ipython3",
   "version": "3.7.3"
  }
 },
 "nbformat": 4,
 "nbformat_minor": 2
}

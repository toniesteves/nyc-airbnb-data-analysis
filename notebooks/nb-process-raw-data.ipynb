{
 "cells": [
  {
   "cell_type": "markdown",
   "metadata": {},
   "source": [
    "# Obtendo latitudes e longitudes"
   ]
  },
  {
   "cell_type": "markdown",
   "metadata": {},
   "source": [
    "Python client library for Google Maps API Web Services\n",
    "\n",
    "## API Keys\n",
    "\n",
    "Each Google Maps Web Service request requires an API key or client ID. API keys\n",
    "are generated in the 'Credentials' page of the 'APIs & Services' tab of [Google Cloud console](https://console.cloud.google.com/apis/credentials).\n",
    "\n",
    "For even more information on getting started with Google Maps Platform and generating/restricting an API key, see [Get Started with Google Maps Platform](https://developers.google.com/maps/gmp-get-started) in our docs.\n",
    "\n",
    "The Python Client for Google Maps Services is a Python Client library for the following Google Maps\n",
    "APIs:\n",
    "\n",
    " - Directions API\n",
    " - Distance Matrix API\n",
    " - Elevation API\n",
    " - Geocoding API\n",
    " - Geolocation API\n",
    " - Time Zone API\n",
    " - Roads API\n",
    " - Places API\n",
    " - Maps Static API\n",
    "\n",
    "Keep in mind that the same [terms and conditions](https://developers.google.com/maps/terms) apply\n",
    "to usage of the APIs when they're accessed through this library.\n",
    "\n",
    "**Important:** This key should be kept secret on your server."
   ]
  },
  {
   "cell_type": "code",
   "execution_count": 6,
   "metadata": {},
   "outputs": [
    {
     "name": "stdout",
     "output_type": "stream",
     "text": [
      "Requirement already up-to-date: googlemaps in /Library/Frameworks/Python.framework/Versions/3.7/lib/python3.7/site-packages (4.2.0)\n",
      "Requirement already satisfied, skipping upgrade: requests<3.0,>=2.20.0 in /Library/Frameworks/Python.framework/Versions/3.7/lib/python3.7/site-packages (from googlemaps) (2.22.0)\n",
      "Requirement already satisfied, skipping upgrade: chardet<3.1.0,>=3.0.2 in /Library/Frameworks/Python.framework/Versions/3.7/lib/python3.7/site-packages (from requests<3.0,>=2.20.0->googlemaps) (3.0.4)\n",
      "Requirement already satisfied, skipping upgrade: idna<2.9,>=2.5 in /Library/Frameworks/Python.framework/Versions/3.7/lib/python3.7/site-packages (from requests<3.0,>=2.20.0->googlemaps) (2.8)\n",
      "Requirement already satisfied, skipping upgrade: certifi>=2017.4.17 in /Library/Frameworks/Python.framework/Versions/3.7/lib/python3.7/site-packages (from requests<3.0,>=2.20.0->googlemaps) (2019.6.16)\n",
      "Requirement already satisfied, skipping upgrade: urllib3!=1.25.0,!=1.25.1,<1.26,>=1.21.1 in /Library/Frameworks/Python.framework/Versions/3.7/lib/python3.7/site-packages (from requests<3.0,>=2.20.0->googlemaps) (1.25.3)\n",
      "\u001b[33mWARNING: You are using pip version 19.3.1; however, version 20.0.2 is available.\n",
      "You should consider upgrading via the 'pip install --upgrade pip' command.\u001b[0m\n"
     ]
    }
   ],
   "source": [
    "!pip install -U googlemaps"
   ]
  },
  {
   "cell_type": "code",
   "execution_count": 7,
   "metadata": {},
   "outputs": [
    {
     "data": {
      "text/plain": [
       "True"
      ]
     },
     "execution_count": 7,
     "metadata": {},
     "output_type": "execute_result"
    }
   ],
   "source": [
    "import tqdm\n",
    "import googlemaps\n",
    "from dotenv import load_dotenv\n",
    "\n",
    "load_dotenv()"
   ]
  },
  {
   "cell_type": "code",
   "execution_count": 8,
   "metadata": {},
   "outputs": [],
   "source": [
    "gmaps = googlemaps.Client(key=os.environ['GOOGLE_API_KEY'])"
   ]
  },
  {
   "cell_type": "code",
   "execution_count": 16,
   "metadata": {},
   "outputs": [],
   "source": [
    "places = pd.read_csv(r'scrap/places.csv', sep=';')"
   ]
  },
  {
   "cell_type": "code",
   "execution_count": 17,
   "metadata": {},
   "outputs": [
    {
     "data": {
      "text/html": [
       "<div>\n",
       "<style scoped>\n",
       "    .dataframe tbody tr th:only-of-type {\n",
       "        vertical-align: middle;\n",
       "    }\n",
       "\n",
       "    .dataframe tbody tr th {\n",
       "        vertical-align: top;\n",
       "    }\n",
       "\n",
       "    .dataframe thead th {\n",
       "        text-align: right;\n",
       "    }\n",
       "</style>\n",
       "<table border=\"1\" class=\"dataframe\">\n",
       "  <thead>\n",
       "    <tr style=\"text-align: right;\">\n",
       "      <th></th>\n",
       "      <th>poi</th>\n",
       "    </tr>\n",
       "  </thead>\n",
       "  <tbody>\n",
       "    <tr>\n",
       "      <th>0</th>\n",
       "      <td>Estatua da Liberdade</td>\n",
       "    </tr>\n",
       "    <tr>\n",
       "      <th>1</th>\n",
       "      <td>Central Park</td>\n",
       "    </tr>\n",
       "    <tr>\n",
       "      <th>2</th>\n",
       "      <td>Times Square</td>\n",
       "    </tr>\n",
       "    <tr>\n",
       "      <th>3</th>\n",
       "      <td>Empire State Building</td>\n",
       "    </tr>\n",
       "    <tr>\n",
       "      <th>4</th>\n",
       "      <td>Rockefeller Center</td>\n",
       "    </tr>\n",
       "  </tbody>\n",
       "</table>\n",
       "</div>"
      ],
      "text/plain": [
       "                     poi\n",
       "0   Estatua da Liberdade\n",
       "1           Central Park\n",
       "2           Times Square\n",
       "3  Empire State Building\n",
       "4     Rockefeller Center"
      ]
     },
     "execution_count": 17,
     "metadata": {},
     "output_type": "execute_result"
    }
   ],
   "source": [
    "places.head()"
   ]
  },
  {
   "cell_type": "code",
   "execution_count": 22,
   "metadata": {},
   "outputs": [
    {
     "data": {
      "application/vnd.jupyter.widget-view+json": {
       "model_id": "cc8f0d2f243d4d4d833e3b7500676685",
       "version_major": 2,
       "version_minor": 0
      },
      "text/plain": [
       "HBox(children=(IntProgress(value=1, bar_style='info', max=1), HTML(value='')))"
      ]
     },
     "metadata": {},
     "output_type": "display_data"
    },
    {
     "name": "stdout",
     "output_type": "stream",
     "text": [
      "0: Estatua da Liberdade - 40.6892494 , -74.04450039999999\n",
      "1: Central Park - 40.7828647 , -73.9653551\n",
      "2: Times Square - 40.7579747 , -73.9855426\n",
      "3: Empire State Building - 40.7484405 , -73.98566439999999\n",
      "4: Rockefeller Center - 40.7587402 , -73.9786736\n",
      "5: Ponte do Brooklyn - 40.7060855 , -73.9968643\n",
      "6: High Line - 40.7479925 , -74.0047649\n",
      "7: Metropolitan Museum of Art - 40.7794366 , -73.963244\n",
      "8: One World Trade Center - 40.7127431 , -74.0133795\n",
      "9: Estação Grand Central - 40.7527262 , -73.9772294\n",
      "10: The Museum of Modern Art - 40.7614327 , -73.97762159999999\n",
      "11: Memorial & Museu Nacional do 11 de Setembro - 40.7115215 , -74.0135111\n",
      "12: Quinta Avenida - 20.6406959 , -87.0621137\n",
      "13: Broadway - 36.1510606 , -95.98244299999999\n",
      "14: Parque Bryant - 40.7535965 , -73.9832326\n",
      "15: Museu Solomon R. Guggenheim - 40.7829796 , -73.9589706\n",
      "16: Coney Island - 40.5755438 , -73.9707016\n",
      "17: Battery Park - 40.7032775 , -74.0170279\n",
      "18: Plaza Hotel - 40.7644691 , -73.9744877\n",
      "19: Chrysler Building - 40.7516208 , -73.97550199999999\n",
      "20: Chinatown - 40.7157509 , -73.9970307\n",
      "21: Prospect Park - 40.6602037 , -73.9689558\n",
      "22: Flatiron Building - 40.7410605 , -73.9896986\n",
      "23: Catedral de São Patrício - 40.7586117 , -73.9761953\n",
      "24: Chelsea Market - 40.7424396 , -74.0061439\n",
      "25: Washington Square Park - 40.7308228 , -73.997332\n",
      "26: Museu Americano de História Natural - 40.7813241 , -73.9739882\n",
      "27: Little Italy - 32.7231571 , -117.1676549\n",
      "28: Jardim Botânico do Brooklyn - 40.6694123 , -73.9624185\n",
      "29: Zoológico do Bronx - 40.8505949 , -73.8769982\n",
      "30: Jardim Botânico de Nova Iorque - 40.8623889 , -73.8772481\n",
      "31: Balsa de Staten Island - 40.67284069999999 , -74.04450680000001\n",
      "32: Radio City Music Hall - 40.75997599999999 , -73.9799772\n",
      "33: Intrepid Sea, Air & Space Museum - 40.7645266 , -73.99960759999999\n",
      "34: Madison Square Garden - 40.7505045 , -73.9934387\n",
      "35: Parque da Ponte do Brooklyn - 40.6995399 , -73.9973777\n",
      "36: Top of the Rock - 36.535959 , -93.24804499999999\n",
      "37: Whitney Museum of American Art - 40.7395877 , -74.0088629\n",
      "38: Cloisters - 40.8648628 , -73.9317274\n",
      "39: Ponte de Manhattan - 40.7074959 , -73.99077419999999\n",
      "40: Zoológico do Central Park - 40.767778 , -73.9718335\n",
      "41: Ilha da Liberdade - 40.6895453 , -74.0449292\n",
      "42: Madison Square Park - 40.74259989999999 , -73.98777009999999\n",
      "43: Bethesda Terrace - 40.7738225 , -73.9708185\n",
      "44: Circle Line Sightseeing Cruises - 40.7628839 , -74.0017135\n",
      "45: Lincoln Center - 40.7724641 , -73.9834889\n",
      "46: Flushing Meadows-Corona Park - 40.73971359999999 , -73.840785\n",
      "47: Columbus Circle - 40.767848 , -73.98152189999999\n",
      "48: Organização das Nações Unidas - 40.7488758 , -73.9680091\n",
      "49: Brooklyn Museum - 40.6712062 , -73.9636306\n",
      "50: Strawberry Fields - 40.775753 , -73.9752124\n",
      "51: Ilha Roosevelt - 40.76050310000001 , -73.9509934\n",
      "52: Brooklyn Bridge - 40.7060855 , -73.9968643\n",
      "53: Liberty State Park - 40.7030799 , -74.0537191\n",
      "54: Museu Tenement - 40.7187958 , -73.99006969999999\n",
      "55: Castelo Belvedere - 40.7794302 , -73.9690677\n",
      "56: The Tour at NBC Studios - 40.7593651 , -73.98009789999999\n",
      "57: One World Observatory - 40.7133444 , -74.0133677\n",
      "58: Wollman Rink - 40.7677792 , -73.9744673\n",
      "59: Coleção Frick - 40.771209 , -73.9673991\n",
      "60: Yankee Stadium - 40.8296426 , -73.9261745\n",
      "61: Ponte George Washington - 40.8516964 , -73.9527159\n",
      "62: Aquário de Nova York - 40.5742632 , -73.9748754\n",
      "63: Museu da Cidade de Nova York - 40.7924939 , -73.95190889999999\n",
      "64: Touro de Wall Street - 40.7055537 , -74.0134436\n",
      "65: Federal Hall - 40.7073993 , -74.0102088\n",
      "66: Riverside Park - 37.2412619 , -95.7034499\n",
      "67: Porto de Nova Iorque - 40.6180585 , -74.0666722\n",
      "68: New Museum - 40.7223376 , -73.9928905\n",
      "69: Museu do Trânsito de Nova York - 40.6904254 , -73.9889343\n",
      "70: Carnegie Hall - 40.7651258 , -73.97992359999999\n",
      "71: Brookfield Place - 40.7127168 , -74.01528239999999\n",
      "72: Astoria - 40.7643574 , -73.92346189999999\n",
      "73: Igreja da Trindade - 40.7080624 , -74.0121849\n",
      "74: New York City Hall - 40.7127744 , -74.006059\n",
      "75: Woolworth Building - 40.71243 , -74.0083547\n",
      "76: Árvore de Natal do Rockefeller Center - 40.7587105 , -73.97858719999999\n",
      "77: 34th Street - 40.7527048 , -73.9946703\n",
      "78: Ponte Verrazano-Narrows - 40.6066162 , -74.0446602\n",
      "79: Snug Harbor Cultural Center & Botanical Garden - 40.6433718 , -74.1027431\n",
      "80: Ponte do Queensboro - 40.75673159999999 , -73.9542239\n",
      "81: Museu do Sexo - 40.74410640000001 , -73.98741129999999\n",
      "82: Pierpont Morgan Library - 40.7492258 , -73.9813971\n",
      "83: Queens Museum - 40.7458034 , -73.8467192\n",
      "84: Apollo Theater - 40.810018 , -73.95005600000002\n",
      "85: Madame Tussauds em Nova York - 40.7564269 , -73.9888338\n",
      "86: Vessel - 40.753759 , -74.0021512\n",
      "87: Madison Avenue - 40.7788867 , -73.9602326\n",
      "88: Canal Street - 42.3348589 , -85.3501981\n",
      "89: Macy's Herald Square - 40.7508025 , -73.98948349999999\n",
      "90: Bushwick - 40.6957755 , -73.9170604\n",
      "91: Brooklyn Heights Promenade - 40.6961936 , -73.9975036\n",
      "92: Hudson River Park - 40.7331168 , -74.0108977\n",
      "93: Teleférico da Ilha Roosevelt - 40.7615945 , -73.964576\n",
      "94: Castle Clinton - 40.7034401 , -74.0168023\n",
      "95: Jacqueline Kennedy Onassis Reservoir - 40.785719 , -73.9639021\n",
      "96: Wave Hill Public Gardens - 40.89785029999999 , -73.9114477\n",
      "97: Metropolitan Opera - 40.7728233 , -73.98463439999999\n",
      "98: Gramercy Park - 40.7367783 , -73.9844722\n",
      "\n",
      "CPU times: user 3.5 s, sys: 298 ms, total: 3.8 s\n",
      "Wall time: 55.6 s\n"
     ]
    }
   ],
   "source": [
    "%%time\n",
    "\n",
    "poi_dataframe = pd.DataFrame(columns=['poi','lat','long'])\n",
    "\n",
    "for index, poi in tqdm.tqdm_notebook(enumerate(places[\"poi\"].to_numpy())):\n",
    "    poi_dataframe = poi_dataframe.append({'poi': poi, 'lat': gmaps.geocode(poi)[0]['geometry']['location']['lat'] , 'long': gmaps.geocode(poi)[0]['geometry']['location']['lng']}, ignore_index=True)\n",
    "    places\n",
    "    print(\"{}: {} - {} , {}\".format(index, poi, gmaps.geocode(poi)[0]['geometry']['location']['lat'], gmaps.geocode(poi)[0]['geometry']['location']['lng'])) "
   ]
  },
  {
   "cell_type": "code",
   "execution_count": 23,
   "metadata": {},
   "outputs": [
    {
     "data": {
      "text/plain": [
       "(99, 3)"
      ]
     },
     "execution_count": 23,
     "metadata": {},
     "output_type": "execute_result"
    }
   ],
   "source": [
    "poi_dataframe.shape"
   ]
  },
  {
   "cell_type": "code",
   "execution_count": 27,
   "metadata": {},
   "outputs": [
    {
     "data": {
      "text/html": [
       "<div>\n",
       "<style scoped>\n",
       "    .dataframe tbody tr th:only-of-type {\n",
       "        vertical-align: middle;\n",
       "    }\n",
       "\n",
       "    .dataframe tbody tr th {\n",
       "        vertical-align: top;\n",
       "    }\n",
       "\n",
       "    .dataframe thead th {\n",
       "        text-align: right;\n",
       "    }\n",
       "</style>\n",
       "<table border=\"1\" class=\"dataframe\">\n",
       "  <thead>\n",
       "    <tr style=\"text-align: right;\">\n",
       "      <th></th>\n",
       "      <th>poi</th>\n",
       "      <th>lat</th>\n",
       "      <th>long</th>\n",
       "    </tr>\n",
       "  </thead>\n",
       "  <tbody>\n",
       "    <tr>\n",
       "      <th>19</th>\n",
       "      <td>Chrysler Building</td>\n",
       "      <td>40.751621</td>\n",
       "      <td>-73.975502</td>\n",
       "    </tr>\n",
       "    <tr>\n",
       "      <th>2</th>\n",
       "      <td>Times Square</td>\n",
       "      <td>40.757975</td>\n",
       "      <td>-73.985543</td>\n",
       "    </tr>\n",
       "    <tr>\n",
       "      <th>78</th>\n",
       "      <td>Ponte Verrazano-Narrows</td>\n",
       "      <td>40.606616</td>\n",
       "      <td>-74.044660</td>\n",
       "    </tr>\n",
       "    <tr>\n",
       "      <th>54</th>\n",
       "      <td>Museu Tenement</td>\n",
       "      <td>40.718796</td>\n",
       "      <td>-73.990070</td>\n",
       "    </tr>\n",
       "    <tr>\n",
       "      <th>39</th>\n",
       "      <td>Ponte de Manhattan</td>\n",
       "      <td>40.707496</td>\n",
       "      <td>-73.990774</td>\n",
       "    </tr>\n",
       "    <tr>\n",
       "      <th>91</th>\n",
       "      <td>Brooklyn Heights Promenade</td>\n",
       "      <td>40.696194</td>\n",
       "      <td>-73.997504</td>\n",
       "    </tr>\n",
       "    <tr>\n",
       "      <th>65</th>\n",
       "      <td>Federal Hall</td>\n",
       "      <td>40.707399</td>\n",
       "      <td>-74.010209</td>\n",
       "    </tr>\n",
       "    <tr>\n",
       "      <th>62</th>\n",
       "      <td>Aquário de Nova York</td>\n",
       "      <td>40.574263</td>\n",
       "      <td>-73.974875</td>\n",
       "    </tr>\n",
       "    <tr>\n",
       "      <th>92</th>\n",
       "      <td>Hudson River Park</td>\n",
       "      <td>40.733117</td>\n",
       "      <td>-74.010898</td>\n",
       "    </tr>\n",
       "    <tr>\n",
       "      <th>51</th>\n",
       "      <td>Ilha Roosevelt</td>\n",
       "      <td>40.760503</td>\n",
       "      <td>-73.950993</td>\n",
       "    </tr>\n",
       "  </tbody>\n",
       "</table>\n",
       "</div>"
      ],
      "text/plain": [
       "                           poi        lat       long\n",
       "19           Chrysler Building  40.751621 -73.975502\n",
       "2                 Times Square  40.757975 -73.985543\n",
       "78     Ponte Verrazano-Narrows  40.606616 -74.044660\n",
       "54              Museu Tenement  40.718796 -73.990070\n",
       "39          Ponte de Manhattan  40.707496 -73.990774\n",
       "91  Brooklyn Heights Promenade  40.696194 -73.997504\n",
       "65                Federal Hall  40.707399 -74.010209\n",
       "62        Aquário de Nova York  40.574263 -73.974875\n",
       "92           Hudson River Park  40.733117 -74.010898\n",
       "51              Ilha Roosevelt  40.760503 -73.950993"
      ]
     },
     "execution_count": 27,
     "metadata": {},
     "output_type": "execute_result"
    }
   ],
   "source": [
    "poi_dataframe.sample(10)"
   ]
  },
  {
   "cell_type": "code",
   "execution_count": 28,
   "metadata": {},
   "outputs": [],
   "source": [
    "poi_dataframe.to_csv('scrap/poi_dataframe.csv', index=False, sep=';')"
   ]
  },
  {
   "cell_type": "code",
   "execution_count": null,
   "metadata": {},
   "outputs": [],
   "source": []
  }
 ],
 "metadata": {
  "kernelspec": {
   "display_name": "Python 3",
   "language": "python",
   "name": "python3"
  },
  "language_info": {
   "codemirror_mode": {
    "name": "ipython",
    "version": 3
   },
   "file_extension": ".py",
   "mimetype": "text/x-python",
   "name": "python",
   "nbconvert_exporter": "python",
   "pygments_lexer": "ipython3",
   "version": "3.7.3"
  }
 },
 "nbformat": 4,
 "nbformat_minor": 2
}
